{
 "cells": [
  {
   "cell_type": "markdown",
   "metadata": {},
   "source": [
    "# Ian Rabago - PHYS 404, HW 4"
   ]
  },
  {
   "cell_type": "markdown",
   "metadata": {},
   "source": [
    "### Solving a system of linear equations\n",
    "\n",
    "<p>$x_{1}^2 + x_{1}x_{2} = 10$</p>\n",
    "<p>$x_{2} + 3x_{1}x_{2}^2 = 57$</p>"
   ]
  },
  {
   "cell_type": "code",
   "execution_count": 79,
   "metadata": {},
   "outputs": [
    {
     "name": "stdout",
     "output_type": "stream",
     "text": [
      "x1 = 0.360361119659\n",
      "x2 = 27.3895804097\n"
     ]
    }
   ],
   "source": [
    "import numpy as np\n",
    "import matplotlib.pyplot as plt\n",
    "\n",
    "#Starting guesses for x1 and x2. Picked uniformly from 0 to 100.\n",
    "x1 = np.random.uniform(0, 100)\n",
    "x2 = np.random.uniform(0, 100)\n",
    "\n",
    "#Empty arrays for plotting and height value for derivatives.\n",
    "line1, line2 = [], []\n",
    "h = 0.001\n",
    "\n",
    "#Function 1, set equal to zero.\n",
    "def f1(x1, x2):\n",
    "    return x1**2 + x1*x2 - 10\n",
    "\n",
    "#Function 2, set equal to zero.\n",
    "def f2(x1, x2):\n",
    "    return x2 + 3*x1*x2**2 - 57\n",
    "\n",
    "#Partial with respect to x1, using forward difference scheme.\n",
    "def partial_x1(f, x1, x2, h):\n",
    "    return (f(x1+h,x2) - f(x1,x2))/h\n",
    "\n",
    "#Partial with respect to x2, using forward difference scheme.\n",
    "def partial_x2(f, x1, x2, h):\n",
    "    return (f(x1,x2+h) - f(x1,x2))/h\n",
    "\n",
    "\n",
    "for i in range(20):\n",
    "    #Records the values of x1 and x2 in an array.\n",
    "    line1.append(x1)\n",
    "    line2.append(x2)\n",
    "    \n",
    "    #Sets up the matrix equation y = F*dx and solves for the matrix dx.\n",
    "    y = [f1(x1, x2), f2(x1, x2)]\n",
    "    F = [[partial_x1(f1, x1, x2, h), partial_x2(f1, x1, x2, h)], [partial_x1(f2, x1, x2, h), partial_x2(f2, x1, x2, h)]]\n",
    "    dx = -1*np.linalg.solve(F, y)\n",
    "\n",
    "    #Once the dx matrix is solved, the elements are added to x1 and x2, respectively.\n",
    "    x1 += dx[0]\n",
    "    x2 += dx[1]\n",
    "    \n",
    "print (\"x1 =\", x1)\n",
    "print (\"x2 =\", x2)"
   ]
  },
  {
   "cell_type": "markdown",
   "metadata": {},
   "source": [
    "<p> Using the Newton-Raphson method, this system converges to a solution very quickly; the solutions to $x_{1}$ and $x_{2}$ reach machine precision in roughly 10-20 iterations. </p>\n",
    "\n",
    "<p> It is interesting to see how fast the two variables converge to their solutions, so I graphed their values over time using Matplotlib: </p>"
   ]
  },
  {
   "cell_type": "code",
   "execution_count": 84,
   "metadata": {},
   "outputs": [
    {
     "data": {
      "image/png": "[encoded data removed]",
      "text/plain": [
       "<matplotlib.figure.Figure at 0x7f0628134ef0>"
      ]
     },
     "metadata": {},
     "output_type": "display_data"
    }
   ],
   "source": [
    "#Plotting commands showing convergence of x1 and x2 to solutions.\n",
    "fig = plt.figure(figsize=(10, 8))\n",
    "\n",
    "plt.axhline(y=x1, color='blue')\n",
    "plt.axhline(y=x2, color='orange')\n",
    "plt.plot(line1, 'o-', label='x1')\n",
    "plt.plot(line2, 'o-', label='x2')\n",
    "\n",
    "plt.xlim(xmin=0)\n",
    "plt.ylim(0, 100)\n",
    "plt.title(\"Convergence Using Newton-Raphson\", fontsize=18)\n",
    "plt.legend()\n",
    "plt.show()"
   ]
  },
  {
   "cell_type": "code",
   "execution_count": null,
   "metadata": {
    "collapsed": true
   },
   "outputs": [],
   "source": []
  }
 ],
 "metadata": {
  "kernelspec": {
   "display_name": "Python 3",
   "language": "python",
   "name": "python3"
  },
  "language_info": {
   "codemirror_mode": {
    "name": "ipython",
    "version": 3
   },
   "file_extension": ".py",
   "mimetype": "text/x-python",
   "name": "python",
   "nbconvert_exporter": "python",
   "pygments_lexer": "ipython3",
   "version": "3.6.3"
  }
 },
 "nbformat": 4,
 "nbformat_minor": 2
}
