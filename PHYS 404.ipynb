{
 "cells": [
  {
   "cell_type": "code",
   "execution_count": null,
   "metadata": {},
   "outputs": [],
   "source": [
    "print (\"Welcome to PHYS 404!\")"
   ]
  },
  {
   "cell_type": "code",
   "execution_count": 19,
   "metadata": {},
   "outputs": [
    {
     "name": "stdout",
     "output_type": "stream",
     "text": [
      "Cartesian Coordinates:\n",
      "(3, 4, 12)\n",
      "\n",
      "Cylindrical Coordinates:\n",
      "(3, 4, 12) --> (5.0000, 0.9273, 12.0000)\n",
      "\n",
      "Spherical Coordinates:\n",
      "(3, 4, 12) --> (13.0000, 0.9273, 0.3948)\n",
      "\n"
     ]
    }
   ],
   "source": [
    "import math\n",
    "\n",
    "# Converts Cartesian to cylindrical coordinates.\n",
    "def Transform_Cylindrical(x, y, z):\n",
    "    r = math.sqrt(x**2 + y**2)\n",
    "    theta = math.atan2(y, x)\n",
    "    \n",
    "    print(\"Cylindrical Coordinates:\")\n",
    "    print( \"({}, {}, {}) --> ({:.4f}, {:.4f}, {:.4f})\\n\".format(x, y, z, r, theta, z) )\n",
    "\n",
    "# Converts Cartesian to spherical coordinates.\n",
    "def Transform_Spherical(x, y, z):\n",
    "    rho = math.sqrt(x**2 + y**2 + z**2)\n",
    "    phi = math.atan2(y, x)\n",
    "    theta = math.acos(z/rho)\n",
    "    \n",
    "    print(\"Spherical Coordinates:\")\n",
    "    print( \"({}, {}, {}) --> ({:.4f}, {:.4f}, {:.4f})\\n\".format(x, y, z, rho, phi, theta) )\n",
    "\n",
    "\n",
    "# Cartesian coordinates in 3D.\n",
    "x = 3\n",
    "y = 4\n",
    "z = 12\n",
    "\n",
    "print(\"Cartesian Coordinates:\")\n",
    "print(\"({}, {}, {})\\n\".format(x, y, z))\n",
    "Transform_Cylindrical(x, y, z)\n",
    "Transform_Spherical(x, y, z)"
   ]
  },
  {
   "cell_type": "code",
   "execution_count": null,
   "metadata": {
    "collapsed": true
   },
   "outputs": [],
   "source": []
  }
 ],
 "metadata": {
  "kernelspec": {
   "display_name": "Python 3",
   "language": "python",
   "name": "python3"
  },
  "language_info": {
   "codemirror_mode": {
    "name": "ipython",
    "version": 3
   },
   "file_extension": ".py",
   "mimetype": "text/x-python",
   "name": "python",
   "nbconvert_exporter": "python",
   "pygments_lexer": "ipython3",
   "version": "3.6.3"
  }
 },
 "nbformat": 4,
 "nbformat_minor": 2
}
